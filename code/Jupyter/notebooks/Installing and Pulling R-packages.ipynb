{
 "cells": [
  {
   "cell_type": "markdown",
   "id": "16c4c0d1",
   "metadata": {},
   "source": [
    "### A directory for our r packages\n",
    "\n",
    "I created a directory `/data/team4/rlibs` using the Terminal"
   ]
  },
  {
   "cell_type": "markdown",
   "id": "866ebcd8",
   "metadata": {},
   "source": [
    "### Installing packages\n",
    "\n",
    "When I install packages, I need to install them to that directory, like this:"
   ]
  },
  {
   "cell_type": "code",
   "execution_count": 16,
   "id": "f317d11e",
   "metadata": {},
   "outputs": [],
   "source": [
    "install.packages('ggplot2', lib='/data/team4/rlibs')"
   ]
  },
  {
   "cell_type": "markdown",
   "id": "9c93ab78",
   "metadata": {},
   "source": [
    "### After we install it, we need to modify the r path\n",
    "\n",
    "From within r, and then it is off to the races.  Note, you only have to make the directory and install the package once, but you need to modify the libPath in every single notebook."
   ]
  },
  {
   "cell_type": "code",
   "execution_count": 4,
   "id": "282287fb",
   "metadata": {},
   "outputs": [],
   "source": [
    ".libPaths( c( .libPaths(), '/data/team4/rlibs') )"
   ]
  },
  {
   "cell_type": "code",
   "execution_count": 5,
   "id": "151a41fa",
   "metadata": {},
   "outputs": [],
   "source": [
    "library('httr')\n",
    "library('xml2')"
   ]
  },
  {
   "cell_type": "code",
   "execution_count": 6,
   "id": "5ede09af",
   "metadata": {},
   "outputs": [],
   "source": [
    "response <- GET('https://eutils.ncbi.nlm.nih.gov/entrez/eutils/esearch.fcgi?term=Health+disparities&retmax=50')"
   ]
  },
  {
   "cell_type": "code",
   "execution_count": 8,
   "id": "e43d124a",
   "metadata": {},
   "outputs": [
    {
     "data": {
      "text/html": [
       "200"
      ],
      "text/latex": [
       "200"
      ],
      "text/markdown": [
       "200"
      ],
      "text/plain": [
       "[1] 200"
      ]
     },
     "metadata": {},
     "output_type": "display_data"
    }
   ],
   "source": [
    "status_code(response)"
   ]
  },
  {
   "cell_type": "code",
   "execution_count": 12,
   "id": "47dc2d7f",
   "metadata": {},
   "outputs": [
    {
     "data": {
      "text/html": [
       "'text/xml; charset=UTF-8'"
      ],
      "text/latex": [
       "'text/xml; charset=UTF-8'"
      ],
      "text/markdown": [
       "'text/xml; charset=UTF-8'"
      ],
      "text/plain": [
       "[1] \"text/xml; charset=UTF-8\""
      ]
     },
     "metadata": {},
     "output_type": "display_data"
    }
   ],
   "source": [
    "headers(response)$`content-type`"
   ]
  },
  {
   "cell_type": "code",
   "execution_count": 14,
   "id": "8cf37ba1",
   "metadata": {},
   "outputs": [
    {
     "data": {
      "text/html": [
       "'35605078'"
      ],
      "text/latex": [
       "'35605078'"
      ],
      "text/markdown": [
       "'35605078'"
      ],
      "text/plain": [
       "[1] \"35605078\""
      ]
     },
     "metadata": {},
     "output_type": "display_data"
    }
   ],
   "source": [
    "doc = content(response)\n",
    "xml_text(xml_find_first(doc, '//eSearchResult/IdList/Id'))"
   ]
  }
 ],
 "metadata": {
  "kernelspec": {
   "display_name": "R",
   "language": "R",
   "name": "ir"
  },
  "language_info": {
   "codemirror_mode": "r",
   "file_extension": ".r",
   "mimetype": "text/x-r-source",
   "name": "R",
   "pygments_lexer": "r",
   "version": "3.6.3"
  }
 },
 "nbformat": 4,
 "nbformat_minor": 5
}
